{
 "cells": [
  {
   "cell_type": "markdown",
   "metadata": {},
   "source": [
    "#### **String**\n",
    "- creating\n",
    "- indexing and slicing\n",
    "- methods\n",
    "- tips and tricks"
   ]
  },
  {
   "cell_type": "code",
   "execution_count": null,
   "metadata": {},
   "outputs": [],
   "source": [
    "a= \"apple\"\n",
    "b='apple'\n",
    "c= '''this is\n",
    " very usefull\n",
    " in multiple message\n",
    "\n",
    "'''\n",
    "d= str(685)"
   ]
  },
  {
   "cell_type": "code",
   "execution_count": null,
   "metadata": {},
   "outputs": [],
   "source": [
    "# type of string\n",
    "#f-string\n",
    "x= f'{a} is a fruit'\n",
    "print(x)\n",
    "\n",
    "#row string\n",
    "\n",
    "addr = r'c\"\\users\\name\\desktop'\n",
    "print(addr)\n",
    "\n",
    "#unicode string\n",
    "uni = u'hello'\n",
    "print(uni)\n",
    "\n",
    "#byte string\n",
    "byt = b'helo'\n",
    "print(byt)"
   ]
  },
  {
   "cell_type": "code",
   "execution_count": null,
   "metadata": {},
   "outputs": [],
   "source": [
    "v=\"encyclopedia\"\n",
    "print(v[0]) # first index\n",
    "print(v[1]) # second index\n",
    "print(v[2]) # third index\n",
    "print(v[11]) #last index\n",
    "print(v[-1]) #last index"
   ]
  },
  {
   "cell_type": "markdown",
   "metadata": {},
   "source": [
    "slicing in python\n",
    "```\n",
    "x[start:stop]\n",
    "```"
   ]
  },
  {
   "cell_type": "markdown",
   "metadata": {},
   "source": []
  },
  {
   "cell_type": "code",
   "execution_count": 2,
   "metadata": {},
   "outputs": [
    {
     "name": "stdout",
     "output_type": "stream",
     "text": [
      "12\n",
      "cyclop\n"
     ]
    }
   ],
   "source": [
    "a='Encyclopedia'\n",
    "print(len(a))\n",
    "print(a[2:8])  # last index in not included\n"
   ]
  },
  {
   "cell_type": "code",
   "execution_count": 5,
   "metadata": {},
   "outputs": [
    {
     "name": "stdout",
     "output_type": "stream",
     "text": [
      "Vijay\n",
      "deenanath\n",
      " chauhan\n"
     ]
    }
   ],
   "source": [
    "name ='Vijay deenanath chauhan'\n",
    "fname = name[0:5]\n",
    "mname = name[6:15]\n",
    "lname = name[15:]\n",
    "print(fname)\n",
    "print(mname)\n",
    "print(lname)"
   ]
  },
  {
   "cell_type": "code",
   "execution_count": 7,
   "metadata": {},
   "outputs": [
    {
     "data": {
      "text/plain": [
       "'once upon a time'"
      ]
     },
     "execution_count": 7,
     "metadata": {},
     "output_type": "execute_result"
    }
   ],
   "source": [
    "msg = \"once upon a time, there was a place called eternia\"\n",
    "msg[:16]\n"
   ]
  },
  {
   "cell_type": "code",
   "execution_count": 18,
   "metadata": {},
   "outputs": [
    {
     "name": "stdout",
     "output_type": "stream",
     "text": [
      "123456\n",
      "123456\n",
      "<class 'int'>\n"
     ]
    }
   ],
   "source": [
    "amt = '$123456'\n",
    "amt1 = amt[1:]\n",
    "print(amt1)\n",
    "amt = int(amt1)\n",
    "print(amt)\n",
    "print(type(amt))\n",
    "\n"
   ]
  },
  {
   "cell_type": "code",
   "execution_count": 20,
   "metadata": {},
   "outputs": [
    {
     "data": {
      "text/plain": [
       "'oc pnatm,teewsapaecle tri'"
      ]
     },
     "execution_count": 20,
     "metadata": {},
     "output_type": "execute_result"
    }
   ],
   "source": [
    "msg[::2] #every 2nd character (even index)  \n",
    "                        "
   ]
  },
  {
   "cell_type": "code",
   "execution_count": 21,
   "metadata": {},
   "outputs": [
    {
     "data": {
      "text/plain": [
       "'neuo  ie hr a  lc aldeena'"
      ]
     },
     "execution_count": 21,
     "metadata": {},
     "output_type": "execute_result"
    }
   ],
   "source": [
    "msg[1::2] # every odd character (odd index)"
   ]
  },
  {
   "cell_type": "code",
   "execution_count": 25,
   "metadata": {},
   "outputs": [
    {
     "data": {
      "text/plain": [
       "'ainrete dellac ecalp a saw ereht ,emit a nopu ecno'"
      ]
     },
     "execution_count": 25,
     "metadata": {},
     "output_type": "execute_result"
    }
   ],
   "source": [
    "#most OP thing in slicing\n",
    "msg[::-1] #reverse the string"
   ]
  },
  {
   "cell_type": "code",
   "execution_count": 26,
   "metadata": {},
   "outputs": [
    {
     "data": {
      "text/plain": [
       "'ainre'"
      ]
     },
     "execution_count": 26,
     "metadata": {},
     "output_type": "execute_result"
    }
   ],
   "source": [
    "msg[::-1][:5]"
   ]
  },
  {
   "cell_type": "code",
   "execution_count": 29,
   "metadata": {},
   "outputs": [
    {
     "data": {
      "text/plain": [
       "'htananeed'"
      ]
     },
     "execution_count": 29,
     "metadata": {},
     "output_type": "execute_result"
    }
   ],
   "source": [
    "name[6:15][::-1]"
   ]
  },
  {
   "cell_type": "markdown",
   "metadata": {},
   "source": [
    "### **String Method**\n",
    "- formating\n",
    "- validation\n",
    "- find & replace\n",
    "- etc."
   ]
  },
  {
   "cell_type": "code",
   "execution_count": 32,
   "metadata": {},
   "outputs": [
    {
     "name": "stdout",
     "output_type": "stream",
     "text": [
      "All the glitter is not Gold🥇\n",
      "ALL THE GLITTER IS NOT GOLD🥇\n",
      "all the glitter is not gold🥇\n"
     ]
    },
    {
     "data": {
      "text/plain": [
       "'All the glitter is not gold🥇'"
      ]
     },
     "execution_count": 32,
     "metadata": {},
     "output_type": "execute_result"
    }
   ],
   "source": [
    "quote= 'All the glitter is not Gold🥇'\n",
    "quote_upper = quote.upper()\n",
    "print(quote)\n",
    "print(quote_upper)\n",
    "quote_lower = quote.lower()\n",
    "print(quote_lower)\n",
    "quote.capitalize()"
   ]
  },
  {
   "cell_type": "code",
   "execution_count": 37,
   "metadata": {},
   "outputs": [
    {
     "data": {
      "text/plain": [
       "'aLL THE GLITTER IS NOT gOLD🥇'"
      ]
     },
     "execution_count": 37,
     "metadata": {},
     "output_type": "execute_result"
    }
   ],
   "source": [
    "quote.swapcase()\n"
   ]
  },
  {
   "cell_type": "code",
   "execution_count": 42,
   "metadata": {},
   "outputs": [
    {
     "data": {
      "text/plain": [
       "'**********************All the glitter is not Gold🥇'"
      ]
     },
     "execution_count": 42,
     "metadata": {},
     "output_type": "execute_result"
    }
   ],
   "source": [
    "quote.rjust(50,\"*\")"
   ]
  },
  {
   "cell_type": "code",
   "execution_count": 43,
   "metadata": {},
   "outputs": [
    {
     "data": {
      "text/plain": [
       "'All the glitter is not Gold🥇**********************'"
      ]
     },
     "execution_count": 43,
     "metadata": {},
     "output_type": "execute_result"
    }
   ],
   "source": [
    "quote.ljust(50,\"*\")"
   ]
  },
  {
   "cell_type": "code",
   "execution_count": 44,
   "metadata": {},
   "outputs": [
    {
     "data": {
      "text/plain": [
       "'******All the glitter is not Gold🥇******'"
      ]
     },
     "execution_count": 44,
     "metadata": {},
     "output_type": "execute_result"
    }
   ],
   "source": [
    "quote.center(40,\"*\")"
   ]
  },
  {
   "cell_type": "code",
   "execution_count": 45,
   "metadata": {},
   "outputs": [
    {
     "data": {
      "text/plain": [
       "False"
      ]
     },
     "execution_count": 45,
     "metadata": {},
     "output_type": "execute_result"
    }
   ],
   "source": [
    "quote.isnumeric()"
   ]
  },
  {
   "cell_type": "code",
   "execution_count": 50,
   "metadata": {},
   "outputs": [
    {
     "name": "stdout",
     "output_type": "stream",
     "text": [
      "valid name, very good\n"
     ]
    }
   ],
   "source": [
    "fname = input(\"enter your name: (dont use number)\")\n",
    "if fname.isalpha():\n",
    "    print(\"valid name, very good\")\n",
    "else:\n",
    "    print(\"what kind of name is this\")"
   ]
  },
  {
   "cell_type": "code",
   "execution_count": 52,
   "metadata": {},
   "outputs": [
    {
     "data": {
      "text/plain": [
       "30"
      ]
     },
     "execution_count": 52,
     "metadata": {},
     "output_type": "execute_result"
    }
   ],
   "source": [
    "# find and index methods for searching in strings\n",
    "msg.find('place')  #return the index of the first occurance of the substring"
   ]
  },
  {
   "cell_type": "code",
   "execution_count": 57,
   "metadata": {},
   "outputs": [
    {
     "name": "stdout",
     "output_type": "stream",
     "text": [
      "16\n",
      "48\n",
      "-1\n",
      "16\n",
      "48\n"
     ]
    }
   ],
   "source": [
    "data = '''Wonderland is a place of magic,\n",
    "where different place are exist.\n",
    "King of wonderland name is Nobody'''\n",
    "print(data.find(\"place\"))\n",
    "print(data.find(\"place\", 17)) # 17 is starting index for searching\n",
    "print(data.find(\"Place\")) # -1 means not found\n",
    "print(data.lower().find(\"place\"))\n",
    "#reverse find\n",
    "print(data.rfind(\"place\"))  # return the index of the last occurance of thr substring"
   ]
  },
  {
   "cell_type": "code",
   "execution_count": 61,
   "metadata": {},
   "outputs": [
    {
     "data": {
      "text/plain": [
       "'Wonderland is a world of magic,\\nwhere different world are exist.\\nKing of wonderland name is Nobody'"
      ]
     },
     "execution_count": 61,
     "metadata": {},
     "output_type": "execute_result"
    }
   ],
   "source": [
    "# replace method \n",
    "data.replace(\"place\", \"world\")  \n"
   ]
  },
  {
   "cell_type": "code",
   "execution_count": 62,
   "metadata": {},
   "outputs": [
    {
     "data": {
      "text/plain": [
       "'Wanderland is a place ad magic,\\nZhere didderent place are exist.\\nKing ad Zanderland name is Nabady'"
      ]
     },
     "execution_count": 62,
     "metadata": {},
     "output_type": "execute_result"
    }
   ],
   "source": [
    "data.replace(\"o\", \"a\").replace(\"w\", \"Z\").replace(\"f\",\"d\")"
   ]
  },
  {
   "cell_type": "code",
   "execution_count": 65,
   "metadata": {},
   "outputs": [
    {
     "data": {
      "text/plain": [
       "'Wonderland_is_a_place of magic,\\nwhere different place are exist.\\nKing of wonderland name is Nobody'"
      ]
     },
     "execution_count": 65,
     "metadata": {},
     "output_type": "execute_result"
    }
   ],
   "source": [
    "data.replace(\" \",\"_\",3)"
   ]
  },
  {
   "cell_type": "markdown",
   "metadata": {},
   "source": [
    "### **Split and Join**"
   ]
  },
  {
   "cell_type": "code",
   "execution_count": 2,
   "metadata": {},
   "outputs": [
    {
     "name": "stdout",
     "output_type": "stream",
     "text": [
      "apple banana cherry\n",
      "19\n",
      "['apple', 'banana', 'cherry']\n"
     ]
    }
   ],
   "source": [
    "fruit = input(\"enter name of fruits:\")\n",
    "print(fruit)\n",
    "print(len(fruit))\n",
    "fruitlist = fruit.split()\n",
    "print(fruitlist)"
   ]
  },
  {
   "cell_type": "code",
   "execution_count": 4,
   "metadata": {},
   "outputs": [
    {
     "data": {
      "text/plain": [
       "['Life ', ' death, strenght ', ' weakness, journey ', ' destination']"
      ]
     },
     "execution_count": 4,
     "metadata": {},
     "output_type": "execute_result"
    }
   ],
   "source": [
    "quotes = 'Life before death, strenght before weakness, journey before destination'\n",
    "quotes.split(\",\")\n",
    "quotes.split(\"before\")"
   ]
  },
  {
   "cell_type": "code",
   "execution_count": 6,
   "metadata": {},
   "outputs": [
    {
     "name": "stdout",
     "output_type": "stream",
     "text": [
      "Jonny Jonny, yes papa\n",
      "eating sugar, no papa\n",
      "telling lies, np papa\n",
      "open your mouth, ha ha ha\n"
     ]
    },
    {
     "data": {
      "text/plain": [
       "['Jonny Jonny, yes papa',\n",
       " 'eating sugar, no papa',\n",
       " 'telling lies, np papa',\n",
       " 'open your mouth, ha ha ha']"
      ]
     },
     "execution_count": 6,
     "metadata": {},
     "output_type": "execute_result"
    }
   ],
   "source": [
    "poem = '''Jonny Jonny, yes papa\n",
    "eating sugar, no papa\n",
    "telling lies, np papa\n",
    "open your mouth, ha ha ha'''\n",
    "print(poem)\n",
    "poem.splitlines()"
   ]
  },
  {
   "cell_type": "code",
   "execution_count": 7,
   "metadata": {},
   "outputs": [
    {
     "data": {
      "text/plain": [
       "'C:/users/irs/desktop/Python1'"
      ]
     },
     "execution_count": 7,
     "metadata": {},
     "output_type": "execute_result"
    }
   ],
   "source": [
    "add = ['C:',\"users\",'irs','desktop','Python1']\n",
    "\"/\".join(add)"
   ]
  },
  {
   "cell_type": "code",
   "execution_count": 11,
   "metadata": {},
   "outputs": [
    {
     "name": "stdout",
     "output_type": "stream",
     "text": [
      "['Irshad', 'may', '1995']\n",
      "img_Irshad_may_1995.jpg\n"
     ]
    }
   ],
   "source": [
    "data= input(\"enter your name, month and year of birth seperated by comma:\")\n",
    "words = data.split(\",\")\n",
    "print(words)\n",
    "name =\"_\".join(words)\n",
    "print(f\"img_{name}.jpg\")"
   ]
  },
  {
   "cell_type": "markdown",
   "metadata": {},
   "source": [
    "### **Count**"
   ]
  },
  {
   "cell_type": "code",
   "execution_count": 14,
   "metadata": {},
   "outputs": [
    {
     "name": "stdout",
     "output_type": "stream",
     "text": [
      "before occure 3 time in the quotes\n"
     ]
    }
   ],
   "source": [
    "n= quotes.count(\"before\")\n",
    "print(f\"before occure {n} time in the quotes\")"
   ]
  },
  {
   "cell_type": "markdown",
   "metadata": {},
   "source": [
    "### **startwith and endwith**"
   ]
  },
  {
   "cell_type": "code",
   "execution_count": 15,
   "metadata": {},
   "outputs": [
    {
     "data": {
      "text/plain": [
       "True"
      ]
     },
     "execution_count": 15,
     "metadata": {},
     "output_type": "execute_result"
    }
   ],
   "source": [
    "\"Mr Bean\".startswith(\"Mr\")"
   ]
  },
  {
   "cell_type": "code",
   "execution_count": 16,
   "metadata": {},
   "outputs": [
    {
     "data": {
      "text/plain": [
       "False"
      ]
     },
     "execution_count": 16,
     "metadata": {},
     "output_type": "execute_result"
    }
   ],
   "source": [
    "\"Mr Bean\".startswith(\"Miss\")"
   ]
  },
  {
   "cell_type": "code",
   "execution_count": 17,
   "metadata": {},
   "outputs": [
    {
     "name": "stdout",
     "output_type": "stream",
     "text": [
      "byyy\n"
     ]
    }
   ],
   "source": [
    "name = input(\"enter the name:\")\n",
    "if name.startswith(\"Mr\"):\n",
    "    print(\"Hello Sir\")\n",
    "else:\n",
    "    print(\"byyy\")"
   ]
  },
  {
   "cell_type": "code",
   "execution_count": 18,
   "metadata": {},
   "outputs": [
    {
     "name": "stdout",
     "output_type": "stream",
     "text": [
      "filename: aaa.jpg\n",
      "Image file\n"
     ]
    }
   ],
   "source": [
    "filename = input(\"enter file name:\")\n",
    "print(f\"filename: {filename}\")\n",
    "if filename.endswith(\".csv\"):\n",
    "    print(\"dataset file\")\n",
    "elif filename.endswith(\".txt\"):\n",
    "    print(\"Text File\")\n",
    "elif filename.endswith(\".jpg\"):\n",
    "    print(\"Image file\")\n",
    "else:\n",
    "    print(\"no extension provoded\")"
   ]
  },
  {
   "cell_type": "code",
   "execution_count": 20,
   "metadata": {},
   "outputs": [
    {
     "name": "stdout",
     "output_type": "stream",
     "text": [
      "     Irshad\n",
      "Irshad\n",
      "length of movie name: 11\n",
      "length of movie name: 6\n"
     ]
    }
   ],
   "source": [
    "#strip\n",
    "movie = input(\"enter movie name:\")\n",
    "clean_movie = movie.strip()\n",
    "print(movie)\n",
    "print(clean_movie)\n",
    "\n",
    "print(f'length of movie name: {len(movie)}')\n",
    "print(f'length of movie name: {len(clean_movie)}')"
   ]
  },
  {
   "cell_type": "code",
   "execution_count": null,
   "metadata": {},
   "outputs": [],
   "source": []
  },
  {
   "cell_type": "code",
   "execution_count": null,
   "metadata": {},
   "outputs": [],
   "source": []
  }
 ],
 "metadata": {
  "kernelspec": {
   "display_name": "Python 3",
   "language": "python",
   "name": "python3"
  },
  "language_info": {
   "codemirror_mode": {
    "name": "ipython",
    "version": 3
   },
   "file_extension": ".py",
   "mimetype": "text/x-python",
   "name": "python",
   "nbconvert_exporter": "python",
   "pygments_lexer": "ipython3",
   "version": "3.12.3"
  }
 },
 "nbformat": 4,
 "nbformat_minor": 2
}
