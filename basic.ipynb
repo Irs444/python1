{
 "cells": [
  {
   "cell_type": "code",
   "execution_count": null,
   "metadata": {},
   "outputs": [],
   "source": [
    "x=10\n",
    "X= \"jshi\"\n",
    "num2 = (1,1,23,)\n"
   ]
  },
  {
   "cell_type": "code",
   "execution_count": null,
   "metadata": {},
   "outputs": [],
   "source": [
    "a= 10\n",
    "b='10'"
   ]
  },
  {
   "cell_type": "code",
   "execution_count": null,
   "metadata": {},
   "outputs": [],
   "source": [
    "num = int(input(\"enter the number\"))\n",
    "print(num)"
   ]
  },
  {
   "cell_type": "code",
   "execution_count": null,
   "metadata": {},
   "outputs": [],
   "source": [
    "ayush =None"
   ]
  },
  {
   "cell_type": "code",
   "execution_count": null,
   "metadata": {},
   "outputs": [],
   "source": [
    "a= 10\n",
    "new = str(a)\n",
    "print(new)"
   ]
  },
  {
   "cell_type": "code",
   "execution_count": null,
   "metadata": {},
   "outputs": [],
   "source": [
    "\n",
    "list = [1,2,3 ,'hello', \"hii\",True]\n",
    "print(list)\n",
    "print(type(list))"
   ]
  },
  {
   "cell_type": "markdown",
   "metadata": {},
   "source": [
    "###  Sets\n",
    "- create\n",
    "- print\n",
    "\n",
    "` siuiu `"
   ]
  },
  {
   "cell_type": "code",
   "execution_count": null,
   "metadata": {},
   "outputs": [],
   "source": [
    "myset = {1,2,3,\"shiu\", 12}\n",
    "print(myset)\n",
    "print(type(myset))"
   ]
  },
  {
   "cell_type": "code",
   "execution_count": null,
   "metadata": {},
   "outputs": [],
   "source": [
    "my_dict = {\n",
    "    \"name\" : \"ayush\",\n",
    "    \"age\" : 20,\n",
    "    \"city\":\"lucknow\"\n",
    "}\n",
    "print(my_dict)\n",
    "print(my_dict[\"name\"])"
   ]
  },
  {
   "cell_type": "markdown",
   "metadata": {},
   "source": [
    "### Operators\n",
    "- Arithmetic\n",
    "- Assignment\n",
    "- comparison\n",
    "- Logical\n",
    "- Identity\n",
    "- MemberShip"
   ]
  },
  {
   "cell_type": "code",
   "execution_count": null,
   "metadata": {},
   "outputs": [],
   "source": [
    "x= 25\n",
    "y= 10\n",
    "print(x+y) # add two numbers \n",
    "print(x-y) # subtract two numbers\n",
    "print(x*y) # multiply two numbers\n",
    "print(x/y) # divide two numbers\n",
    "print(x%y)  # modulus  gives the remainder\n",
    "print(x//y) # floor division"
   ]
  },
  {
   "cell_type": "code",
   "execution_count": null,
   "metadata": {},
   "outputs": [],
   "source": [
    "x=10\n",
    "print(x)\n",
    "\n",
    "x+=10  # x= x+10\n",
    "print(x)\n",
    "\n",
    "x-=10   #x=x-10\n",
    "print(x)\n",
    "\n",
    "x*=10  # x=x*10\n",
    "print(x)\n",
    "\n",
    "x/=10  # x=x/10\n",
    "print(x)"
   ]
  },
  {
   "cell_type": "code",
   "execution_count": null,
   "metadata": {},
   "outputs": [],
   "source": [
    "x=4 \n",
    "y=5\n",
    "print(x==y)\n",
    "print(x!=y)\n",
    "print(x>y)"
   ]
  },
  {
   "cell_type": "code",
   "execution_count": null,
   "metadata": {},
   "outputs": [],
   "source": [
    "a=10\n",
    "b=20\n",
    "print(a<b and b<a)\n",
    "print(a>b or a<b)\n",
    "print(not (a<b and b>a))"
   ]
  },
  {
   "cell_type": "code",
   "execution_count": 52,
   "metadata": {},
   "outputs": [
    {
     "name": "stdout",
     "output_type": "stream",
     "text": [
      "True\n",
      "True\n"
     ]
    }
   ],
   "source": [
    "fruit = [\"apple\", \"banana\", \"cherry\"]\n",
    "color = [\"red\", \"yellow\", \"green\"]\n",
    "a=fruit\n",
    "print(a is fruit)\n",
    "print(fruit is not color)"
   ]
  },
  {
   "cell_type": "code",
   "execution_count": null,
   "metadata": {},
   "outputs": [],
   "source": [
    "fruit = [\"apple\", \"banana\", \"cherry\"]\n",
    "color = [\"red\", \"yellow\", \"green\"]\n",
    "\n",
    "\n",
    "print(color in fruit)\n",
    "print(fruit not in color)"
   ]
  },
  {
   "cell_type": "code",
   "execution_count": null,
   "metadata": {},
   "outputs": [],
   "source": [
    "fruit=[\"apple\", 'banana',\"mango\"]\n",
    "newlist=[]\n",
    "\n",
    "for x in fruit:\n",
    "    if \"a\" in x:\n",
    "        newlist.append(x)\n",
    "    print(x)\n",
    "\n",
    "del fruit\n",
    "del newlist \n",
    "del x\n",
    "\n"
   ]
  },
  {
   "cell_type": "code",
   "execution_count": null,
   "metadata": {},
   "outputs": [],
   "source": [
    "fruit=[\"apple\", 'banana',\"mango\"]\n",
    "fruit[1:2] = [\"cherry\", \"orange\"]\n",
    "print(fruit)\n",
    "fruit.insert(2,\"hiii\")\n",
    "print(fruit)"
   ]
  },
  {
   "cell_type": "code",
   "execution_count": null,
   "metadata": {},
   "outputs": [],
   "source": [
    "i=1\n",
    "while i<11:\n",
    "    print(f\"{i} \\t\\t\\t {i**2}\")\n",
    "    i+=1\n"
   ]
  },
  {
   "cell_type": "code",
   "execution_count": null,
   "metadata": {},
   "outputs": [],
   "source": [
    "myset = {1,2,3,4,5,2,2,8}\n",
    "print(myset)"
   ]
  },
  {
   "cell_type": "code",
   "execution_count": null,
   "metadata": {},
   "outputs": [],
   "source": [
    "name= input(\"enter the user name:\")\n",
    "email=input(\"enter the email:\")\n",
    "pass1=input(\"enter the password:\")\n",
    "pass2=input(\"enter the password again:\")\n",
    "if len(name)>5 and len(name)<10:\n",
    "    if \"@\" in email and len(email)>=6 and email.lower():\n",
    "        if len(pass1)>5 and pass1!=name:\n",
    "            if pass1==pass2:\n",
    "                print(\"you are registered\")\n",
    "            else:\n",
    "                print(\"password not match\")\n",
    "        else:\n",
    "            print(\"password is invalid\")\n",
    "    else:\n",
    "        print(\"email is invalid\")\n",
    "else:\n",
    "    print(\"name is invalid\")"
   ]
  },
  {
   "cell_type": "code",
   "execution_count": 7,
   "metadata": {},
   "outputs": [],
   "source": [
    "del name\n",
    "del email\n",
    "del pass1\n",
    "del pass2"
   ]
  },
  {
   "cell_type": "code",
   "execution_count": 8,
   "metadata": {},
   "outputs": [
    {
     "name": "stdout",
     "output_type": "stream",
     "text": [
      "['apple', 'banana', 'cherry']\n"
     ]
    }
   ],
   "source": [
    "mylist=[\"apple\", \"banana\", \"cherry\"]\n",
    "print(mylist)"
   ]
  },
  {
   "cell_type": "code",
   "execution_count": 9,
   "metadata": {},
   "outputs": [
    {
     "name": "stdout",
     "output_type": "stream",
     "text": [
      "['apple', 'blackcurrant', 'cherry']\n"
     ]
    }
   ],
   "source": [
    "mylist[1]=\"blackcurrant\"\n",
    "print(mylist)"
   ]
  },
  {
   "cell_type": "code",
   "execution_count": 12,
   "metadata": {},
   "outputs": [
    {
     "name": "stdout",
     "output_type": "stream",
     "text": [
      "('apple', 'kiwi', 'cherry')\n"
     ]
    }
   ],
   "source": []
  },
  {
   "cell_type": "code",
   "execution_count": 3,
   "metadata": {},
   "outputs": [
    {
     "name": "stdout",
     "output_type": "stream",
     "text": [
      "[1, 2, 3, 4, 5]\n",
      "[2, 4]\n"
     ]
    }
   ],
   "source": [
    "x= [1,2,3,4,5]\n",
    "new= [x for x in x ]\n",
    "new1=[x for x in x if x%2==0]\n",
    "print(new)\n",
    "print(new1)"
   ]
  },
  {
   "cell_type": "markdown",
   "metadata": {},
   "source": []
  },
  {
   "cell_type": "code",
   "execution_count": 54,
   "metadata": {},
   "outputs": [
    {
     "name": "stdout",
     "output_type": "stream",
     "text": [
      "['pineaplle', 'pineaplle', 'pineaplle']\n"
     ]
    }
   ],
   "source": [
    "fruit=  [\"banana\", \"apple\", \"orange\"]\n",
    "newf=[x  if  \"m\" in x else \"pineaplle\" for x in fruit]\n",
    "print(newf)\n"
   ]
  },
  {
   "cell_type": "code",
   "execution_count": 26,
   "metadata": {},
   "outputs": [
    {
     "name": "stdout",
     "output_type": "stream",
     "text": [
      "[]\n"
     ]
    }
   ],
   "source": [
    "fruit=[\"banana\", \"apple\",\"orange\", \"pineapple\",\"kiwi\",\"graps\"]\n",
    "num=[1,2,3,4,5,6]\n",
    "\n",
    "fruit.append(\"kiwi\")\n",
    "\n",
    "fruit.insert(1,\"mango\")\n",
    "\n",
    "fruit.reverse()\n",
    "fruit.pop()\n",
    "fruit.sort()\n",
    "fruit.extend(num)\n",
    "fruit.clear()\n",
    "print(fruit)\n",
    "del fruit\n",
    "del num\n",
    "\n",
    "\n",
    "\n"
   ]
  },
  {
   "cell_type": "code",
   "execution_count": 32,
   "metadata": {},
   "outputs": [
    {
     "name": "stdout",
     "output_type": "stream",
     "text": [
      "{1, 2, 3, 4, 5, 6, 7}\n",
      "{2, 3, 4, 5, 6, 7}\n",
      "{3, 4, 5, 6, 7}\n"
     ]
    }
   ],
   "source": [
    "myset={1,2,3,4,5,6,7}\n",
    "print(myset)\n",
    "\n",
    "myset.pop()\n",
    "print(myset)\n",
    "myset.pop()\n",
    "print(myset)"
   ]
  },
  {
   "cell_type": "code",
   "execution_count": 51,
   "metadata": {},
   "outputs": [
    {
     "name": "stdout",
     "output_type": "stream",
     "text": [
      "['red', 'white']\n"
     ]
    }
   ],
   "source": [
    "thisdict = {\n",
    "  \"brand\": \"Ford\",\n",
    "  \"electric\": False,\n",
    "  \"year\": 1964,\n",
    "  \"colors\": [\"red\", \"white\", \"blue\"]\n",
    "}\n",
    "\n",
    "print((thisdict[\"colors\"])[0:2])"
   ]
  },
  {
   "cell_type": "code",
   "execution_count": null,
   "metadata": {},
   "outputs": [],
   "source": [
    "\n"
   ]
  }
 ],
 "metadata": {
  "kernelspec": {
   "display_name": "Python 3",
   "language": "python",
   "name": "python3"
  },
  "language_info": {
   "codemirror_mode": {
    "name": "ipython",
    "version": 3
   },
   "file_extension": ".py",
   "mimetype": "text/x-python",
   "name": "python",
   "nbconvert_exporter": "python",
   "pygments_lexer": "ipython3",
   "version": "3.12.3"
  }
 },
 "nbformat": 4,
 "nbformat_minor": 2
}
