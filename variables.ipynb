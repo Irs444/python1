{
 "cells": [
  {
   "cell_type": "markdown",
   "metadata": {},
   "source": [
    "# **Variables:**\n",
    "- variables are the containers for storing data.\n",
    "# **Creating a Variable:**\n",
    "- variable must start with a letter or the underscore character.\n",
    "- a variable name cannot start with a number.\n",
    "- a variable name only contain (A-Z, 0-9, and _).\n",
    "- a variable name cannot contain python keywords.\n",
    "\n"
   ]
  },
  {
   "cell_type": "code",
   "execution_count": null,
   "metadata": {},
   "outputs": [],
   "source": [
    "myvar = \"John\"\n",
    "_myvar = \"Jony\"\n",
    "MYVAR = \"Janardhan\"\n",
    "my_var2 = \"hello\"\n",
    "x,y,z = \"orange\", \"banana\",\"mango\"\n",
    "X=Y=Z = \"apple\"\n",
    "\n",
    "print(X)"
   ]
  },
  {
   "cell_type": "markdown",
   "metadata": {},
   "source": [
    "# **How to take input:**\n",
    "- direct assigning method.\n",
    "- input from user."
   ]
  },
  {
   "cell_type": "code",
   "execution_count": null,
   "metadata": {},
   "outputs": [],
   "source": [
    "x= 2\n",
    "y=\"hello\"\n",
    "\n",
    "z= int(input(\"enter the value:\"))\n",
    "print(x)\n",
    "print(y)\n",
    "print(z)"
   ]
  },
  {
   "cell_type": "markdown",
   "metadata": {},
   "source": [
    "# **Operators:**\n",
    "- operators are used to perform operations on variable and values.\n",
    "# **Types of Operators:**\n",
    "- Arithmetic operators\n",
    "- Assignment operators\n",
    "- Comparison operators\n",
    "- Logical operators\n",
    "- Identity operators\n",
    "- Membership operators\n",
    "- Bitwise operators"
   ]
  },
  {
   "cell_type": "markdown",
   "metadata": {},
   "source": []
  },
  {
   "cell_type": "code",
   "execution_count": null,
   "metadata": {},
   "outputs": [],
   "source": [
    "x=3\n",
    "y=4\n",
    "print(x+y)\n",
    "\n",
    "a=5\n",
    "b=2\n",
    "print(a-b)\n",
    "\n",
    "c=5\n",
    "d=5\n",
    "print(c*d)\n",
    "\n",
    "e=5\n",
    "f=2\n",
    "print(e/f)\n",
    "\n",
    "g=5\n",
    "h=2\n",
    "print(g%h) \n",
    "\n",
    "i=5\n",
    "j=2\n",
    "print(i//j)"
   ]
  },
  {
   "cell_type": "code",
   "execution_count": null,
   "metadata": {},
   "outputs": [],
   "source": [
    "x=5\n",
    "x+=3\n",
    "print(x)\n",
    "\n",
    "a=5\n",
    "a/=3\n",
    "print(a)\n",
    "\n",
    "b=5\n",
    "b%=3\n",
    "print(b)\n",
    "\n",
    "c=5\n",
    "c//=3\n",
    "print(c)"
   ]
  },
  {
   "cell_type": "code",
   "execution_count": null,
   "metadata": {},
   "outputs": [],
   "source": [
    "x=4\n",
    "y=4\n",
    "print(x== y)\n",
    "\n",
    "a=5\n",
    "b=5\n",
    "print(a!=b)"
   ]
  },
  {
   "cell_type": "code",
   "execution_count": null,
   "metadata": {},
   "outputs": [],
   "source": [
    "x=5\n",
    "print(x>3 and x<10)\n",
    "\n",
    "y=5\n",
    "print(y>3 or y<4)\n",
    "\n",
    "z=5\n",
    "print(not(z>3 and z<10))"
   ]
  },
  {
   "cell_type": "code",
   "execution_count": null,
   "metadata": {},
   "outputs": [],
   "source": [
    "x=[\"apple\", \"banana\"]\n",
    "y=[\"apple\", \"banana\"]\n",
    "z=x\n",
    "print(x is z)\n",
    "print(x is y)\n",
    "print(x==y)"
   ]
  },
  {
   "cell_type": "code",
   "execution_count": null,
   "metadata": {},
   "outputs": [],
   "source": [
    "x=[\"ramu\", \"shyam\",\"gopal\"]\n",
    "print(\"ramu\" in x)\n",
    "print(\"ram\" in x)\n",
    "\n",
    "print(\"sita\" not in x)"
   ]
  },
  {
   "cell_type": "markdown",
   "metadata": {},
   "source": [
    "# **DataType:**\n",
    "#### Variables can store data of different type, and different types can do different things.\n",
    "- integer\n",
    "-  float\n",
    "- string\n",
    "- boolean\n",
    "- None\n",
    "- list\n",
    "- tuple\n",
    "- set\n",
    "- dictionary\n",
    " "
   ]
  },
  {
   "cell_type": "markdown",
   "metadata": {},
   "source": []
  },
  {
   "cell_type": "code",
   "execution_count": 4,
   "metadata": {},
   "outputs": [
    {
     "name": "stdout",
     "output_type": "stream",
     "text": [
      "['apple', 'banana', 'cherry', 'orange', 'apple']\n",
      "cherry\n",
      "apple\n",
      "['banana', 'cherry']\n",
      "['apple', 'banana', 'cherry', 'orange']\n",
      "['banana', 'cherry', 'orange', 'apple']\n",
      "['apple', 'blackberrry', 'cherry', 'orange', 'apple']\n",
      "['apple', 'watermelon', 'mango', 'orange', 'apple']\n",
      "['apple', 'watermelon', 'papaya', 'mango', 'orange', 'apple']\n"
     ]
    }
   ],
   "source": [
    "mylist = [\"apple\", \"banana\", \"cherry\", \"orange\",\"apple\"]\n",
    "print(mylist) \n",
    "print(mylist[2])\n",
    "print(mylist[-1])\n",
    "print(mylist[1:3])\n",
    "print(mylist[:4])\n",
    "print(mylist[1:])\n",
    "\n",
    "mylist[1] =\"blackberrry\"\n",
    "print(mylist)\n",
    "\n",
    "mylist[1:3] = [\"watermelon\", \"mango\"]\n",
    "print(mylist)\n",
    "\n",
    "mylist.insert(2,\"papaya\")\n",
    "print(mylist)\n"
   ]
  },
  {
   "cell_type": "markdown",
   "metadata": {},
   "source": [
    "# **Add and Remove List:**"
   ]
  },
  {
   "cell_type": "code",
   "execution_count": 5,
   "metadata": {},
   "outputs": [
    {
     "name": "stdout",
     "output_type": "stream",
     "text": [
      "['apple', 'banana', 'cherry', 'orange']\n",
      "['apple', 'banana', 'cherry', 'orange', 1, 2, 3]\n",
      "['apple', 'mango', 'banana', 'cherry', 'orange', 1, 2, 3]\n",
      "['apple', 'mango', 'cherry', 'orange', 1, 2, 3]\n",
      "['apple', 'mango', 'orange', 1, 2, 3]\n",
      "['apple', 'mango', 'orange', 1, 2]\n",
      "['mango', 'orange', 1, 2]\n",
      "[]\n"
     ]
    }
   ],
   "source": [
    "thislist = [\"apple\", \"banana\", \"cherry\"]\n",
    "mylist =(1,2,3)\n",
    "thislist.append(\"orange\")\n",
    "print(thislist)\n",
    "\n",
    "thislist.extend(mylist)\n",
    "print(thislist)\n",
    "\n",
    "thislist.insert(1,\"mango\")\n",
    "print(thislist)\n",
    "\n",
    "thislist.remove(\"banana\")\n",
    "print(thislist)\n",
    "\n",
    "thislist.pop(2)\n",
    "print(thislist)\n",
    "\n",
    "thislist.pop()\n",
    "print(thislist)\n",
    "\n",
    "del thislist[0]\n",
    "print(thislist)\n",
    "\n",
    "thislist.clear()\n",
    "print(thislist)\n",
    "\n",
    "\n",
    "\n"
   ]
  },
  {
   "cell_type": "markdown",
   "metadata": {},
   "source": [
    "# **Sort List:**"
   ]
  },
  {
   "cell_type": "code",
   "execution_count": 2,
   "metadata": {},
   "outputs": [
    {
     "name": "stdout",
     "output_type": "stream",
     "text": [
      "['apple', 'banana', 'cherry', 'mango', 'pineapple']\n",
      "['pineapple', 'mango', 'cherry', 'banana', 'apple']\n"
     ]
    }
   ],
   "source": [
    "x=[\"cherry\",\"mango\",\"apple\",\"pineapple\",\"banana\"]\n",
    "x.sort()\n",
    "print(x)\n",
    "\n",
    "x.sort(reverse = True)\n",
    "print(x)"
   ]
  },
  {
   "cell_type": "markdown",
   "metadata": {},
   "source": [
    "# **Tuple:**"
   ]
  },
  {
   "cell_type": "code",
   "execution_count": 3,
   "metadata": {},
   "outputs": [
    {
     "name": "stdout",
     "output_type": "stream",
     "text": [
      "(1, 5, 4, 7, 3, 4, 7)\n",
      "(1, 'orange', 4, 7, 3, 4, 7)\n",
      "(1, 'orange', 4, 7, 3, 4, 7, 'kiwi')\n",
      "(1, 'orange', 4, 7, 3, 4, 7)\n"
     ]
    }
   ],
   "source": [
    "mytuple = (1, 5 ,4,7,3,4,7)\n",
    "print(mytuple)\n",
    "\n",
    "x = list(mytuple) #convert tuple to list\n",
    "\n",
    "x[1] =\"orange\" #change the value of 1st index\n",
    "mytuple = tuple(x)  #convert list to tuple\n",
    "print(mytuple)\n",
    "\n",
    "x.append(\"kiwi\") #add kiwi at the end\n",
    "mytuple = tuple(x)\n",
    "print(mytuple)\n",
    "\n",
    "x.remove(\"kiwi\") #remove kiwi\n",
    "mytuple = tuple(x)\n",
    "print(mytuple)\n",
    "\n"
   ]
  },
  {
   "cell_type": "markdown",
   "metadata": {},
   "source": [
    "# **Dictionary:**"
   ]
  },
  {
   "cell_type": "code",
   "execution_count": 12,
   "metadata": {},
   "outputs": [
    {
     "name": "stdout",
     "output_type": "stream",
     "text": [
      "{'brand': 'ford', 'model': 'mustang', 'year': 1964}\n",
      "mustang\n",
      "3\n",
      "<class 'dict'>\n",
      "ford\n"
     ]
    }
   ],
   "source": [
    "dict = {\n",
    "    \"brand\":\"ford\",\n",
    "    \"model\":\"mustang\",\n",
    "    \"year\":1964\n",
    "}\n",
    "\n",
    "print(dict)\n",
    "print(dict[\"model\"]) #print the value of model\n",
    "print(len(dict))\n",
    "print(type(dict))\n",
    "x=dict.get(\"brand\") #get the value of brand\n",
    "print(x)"
   ]
  },
  {
   "cell_type": "code",
   "execution_count": null,
   "metadata": {},
   "outputs": [],
   "source": []
  }
 ],
 "metadata": {
  "kernelspec": {
   "display_name": "Python 3",
   "language": "python",
   "name": "python3"
  },
  "language_info": {
   "codemirror_mode": {
    "name": "ipython",
    "version": 3
   },
   "file_extension": ".py",
   "mimetype": "text/x-python",
   "name": "python",
   "nbconvert_exporter": "python",
   "pygments_lexer": "ipython3",
   "version": "3.12.3"
  }
 },
 "nbformat": 4,
 "nbformat_minor": 2
}
