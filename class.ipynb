{
 "cells": [
  {
   "cell_type": "code",
   "execution_count": 12,
   "metadata": {},
   "outputs": [
    {
     "name": "stdout",
     "output_type": "stream",
     "text": [
      "pin set successfully\n"
     ]
    }
   ],
   "source": [
    "class Atm:\n",
    "    def __init__(self):\n",
    "        self.pin=\"\"\n",
    "        self.balance=0\n",
    "        self.menu()\n",
    "\n",
    "    def menu(self):\n",
    "        user_input=input(\"\"\"\n",
    "       Hello, how would you like to proceed?\n",
    "            1. Enter 1 to create pin\n",
    "            2. Enter 2 for check balance\n",
    "            3. Enter 3 to deposite\n",
    "            4. Enter 4 to withdraw\n",
    "            5. Enter 5 to exit\n",
    "\"\"\")\n",
    "        if user_input ==\"1\":\n",
    "            self.create_pin()\n",
    "        elif user_input == \"2\":\n",
    "            self.check_balance()\n",
    "        elif user_input == \"3\":\n",
    "            self.deposit()\n",
    "        elif user_input == \"4\":\n",
    "            self.withdraw()\n",
    "        elif user_input == \"5\":\n",
    "            print(\"exit\")\n",
    "        else:\n",
    "            print(\"byyy\")\n",
    "\n",
    "    def create_pin(self):\n",
    "        self.pin = int(input(\"enter your pin:\"))\n",
    "        print(\"pin set successfully\")\n",
    "\n",
    "    def deposit(self):\n",
    "        temp = int(input(\"enter your pin:\"))\n",
    "        if temp == self.pin:\n",
    "            amount = int(input(\"enter your amount:\"))\n",
    "            self.balance = self.balance +amount\n",
    "            print(\"Deposite successfully\")\n",
    "        else:\n",
    "            print(\"invalid pin\")\n",
    "\n",
    "    def withdraw(self):\n",
    "        temp = int(input(\"enter your pin:\"))\n",
    "        if temp == self.pin:\n",
    "            amount = int(input(\"enter the amount:\"))\n",
    "            if amount < self.balance:\n",
    "                self.balance = self.balance -amount\n",
    "                print(\"amount withdraw\")\n",
    "            else:\n",
    "                print(\"insufficient balance\")\n",
    "        else:\n",
    "            print(\"invalid pin\")\n",
    "\n",
    "    def check_balance(self):\n",
    "        temp = int(input(\"enter the pin:\"))\n",
    "        if temp == self.pin:\n",
    "            print(self.balance)\n",
    "        else:\n",
    "            print(\"invalid pin\")\n",
    "\n",
    "sbi  = Atm()\n",
    "\n",
    "        \n"
   ]
  },
  {
   "cell_type": "code",
   "execution_count": 14,
   "metadata": {},
   "outputs": [
    {
     "name": "stdout",
     "output_type": "stream",
     "text": [
      "Deposite successfully\n"
     ]
    }
   ],
   "source": [
    "sbi.deposit()"
   ]
  },
  {
   "cell_type": "code",
   "execution_count": 20,
   "metadata": {},
   "outputs": [
    {
     "name": "stdout",
     "output_type": "stream",
     "text": [
      "30000\n"
     ]
    }
   ],
   "source": [
    "sbi.check_balance()"
   ]
  },
  {
   "cell_type": "code",
   "execution_count": 19,
   "metadata": {},
   "outputs": [
    {
     "name": "stdout",
     "output_type": "stream",
     "text": [
      "amount withdraw\n"
     ]
    }
   ],
   "source": [
    "sbi.withdraw()"
   ]
  },
  {
   "cell_type": "markdown",
   "metadata": {},
   "source": [
    "### **Inheritance**"
   ]
  },
  {
   "cell_type": "code",
   "execution_count": 21,
   "metadata": {},
   "outputs": [
    {
     "name": "stdout",
     "output_type": "stream",
     "text": [
      "enroll\n",
      "login\n",
      "register\n",
      "review\n"
     ]
    }
   ],
   "source": [
    "class User:\n",
    "    def login(self):\n",
    "        print(\"login\")\n",
    "    \n",
    "    def register(self):\n",
    "        print(\"register\")\n",
    "\n",
    "class student(User):\n",
    "\n",
    "    def enroll(self):\n",
    "        print(\"enroll\")\n",
    "\n",
    "    def review(self):\n",
    "        print(\"review\")\n",
    "\n",
    "stu1 = student()\n",
    "\n",
    "stu1.enroll()\n",
    "stu1.login()\n",
    "stu1.register()\n",
    "stu1.review()\n",
    "     \n",
    "    \n"
   ]
  },
  {
   "cell_type": "code",
   "execution_count": 24,
   "metadata": {},
   "outputs": [
    {
     "name": "stdout",
     "output_type": "stream",
     "text": [
      "login\n",
      "register\n"
     ]
    }
   ],
   "source": [
    "u = User()\n",
    "\n",
    "u.login()\n",
    "u.register()\n"
   ]
  },
  {
   "cell_type": "code",
   "execution_count": 25,
   "metadata": {},
   "outputs": [],
   "source": [
    "class Vehicle:\n",
    "    def vehicle_info(self, name, brand):\n",
    "        print(\"Vehicle information:\")\n",
    "        print(\"Name:\", name , \"Brand:\", brand)\n",
    "\n",
    "class Car(Vehicle):\n",
    "    def car_info(self, year):\n",
    "        print(\"Year:\", year)\n",
    "\n",
    "c= Car()"
   ]
  },
  {
   "cell_type": "code",
   "execution_count": 27,
   "metadata": {},
   "outputs": [
    {
     "name": "stdout",
     "output_type": "stream",
     "text": [
      "Vehicle information:\n",
      "Name: safari Brand: Maruti\n",
      "Year: 2000\n"
     ]
    }
   ],
   "source": [
    "c.vehicle_info(\"safari\", \"Maruti\")\n",
    "c.car_info(2000)"
   ]
  },
  {
   "cell_type": "code",
   "execution_count": 33,
   "metadata": {},
   "outputs": [
    {
     "name": "stdout",
     "output_type": "stream",
     "text": [
      "Vehicle information:\n",
      "Name: 2000 Brand: 1234\n"
     ]
    }
   ],
   "source": [
    "v= Vehicle()\n",
    "v.vehicle_info(2000,1234)"
   ]
  },
  {
   "cell_type": "markdown",
   "metadata": {},
   "source": [
    "### **Multiple Inheritance**\n",
    "- In multiple inheritance one chile class inherit from multiple parent class."
   ]
  },
  {
   "cell_type": "code",
   "execution_count": 34,
   "metadata": {},
   "outputs": [],
   "source": [
    "class Person:\n",
    "    def person_info(self, name, age):\n",
    "        print(f\"Hello my name is {name} and i am {age} old.\")\n",
    "\n",
    "class Company:\n",
    "    def company_info(self, cname, location):\n",
    "        print(f\"I work in {cname} which is located in {location}\")\n",
    "\n",
    "class Employee(Person, Company):\n",
    "    def emplyee_info(self, salary, skill):\n",
    "        print(f\"My salary is {salary} and I have skill like {skill}\")\n",
    "\n",
    "emp = Employee()"
   ]
  },
  {
   "cell_type": "code",
   "execution_count": 38,
   "metadata": {},
   "outputs": [
    {
     "name": "stdout",
     "output_type": "stream",
     "text": [
      "Hello my name is Irshad and i am 20 old.\n",
      "I work in TCS which is located in Noida\n",
      "My salary is 2500 and I have skill likeReact, HTML, CSS\n"
     ]
    }
   ],
   "source": [
    "emp.person_info(\"Irshad\", 20)\n",
    "emp.company_info(\"TCS\", \"Noida\")\n",
    "emp.emplyee_info(2500, \"React, HTML, CSS\")"
   ]
  },
  {
   "cell_type": "code",
   "execution_count": 41,
   "metadata": {},
   "outputs": [
    {
     "name": "stdout",
     "output_type": "stream",
     "text": [
      "Hello I want to use Atm.\n",
      "pin set successfully\n"
     ]
    }
   ],
   "source": [
    "class  Irshad(Atm):\n",
    "    print(\"Hello I want to use Atm.\")\n",
    "\n",
    "irs = Irshad()\n"
   ]
  },
  {
   "cell_type": "code",
   "execution_count": 43,
   "metadata": {},
   "outputs": [
    {
     "name": "stdout",
     "output_type": "stream",
     "text": [
      "Deposite successfully\n"
     ]
    }
   ],
   "source": [
    "irs.deposit()"
   ]
  },
  {
   "cell_type": "code",
   "execution_count": 49,
   "metadata": {},
   "outputs": [
    {
     "name": "stdout",
     "output_type": "stream",
     "text": [
      "10000\n"
     ]
    }
   ],
   "source": [
    "irs.check_balance()\n"
   ]
  },
  {
   "cell_type": "code",
   "execution_count": 48,
   "metadata": {},
   "outputs": [
    {
     "name": "stdout",
     "output_type": "stream",
     "text": [
      "amount withdraw\n"
     ]
    }
   ],
   "source": [
    "irs.withdraw()"
   ]
  },
  {
   "cell_type": "markdown",
   "metadata": {},
   "source": [
    "### **Multilevel inheritance**"
   ]
  },
  {
   "cell_type": "code",
   "execution_count": 55,
   "metadata": {},
   "outputs": [
    {
     "name": "stdout",
     "output_type": "stream",
     "text": [
      "Inside phone constructor\n",
      "Inside phone constructor\n"
     ]
    }
   ],
   "source": [
    "class Product:\n",
    "    def review(self):\n",
    "        print(\"Product customer review\")\n",
    "\n",
    "class Phone(Product):\n",
    "    def __init__(self, price, brand, camera):\n",
    "        print(\"Inside phone constructor\")\n",
    "        self.price = price\n",
    "        self.brand = brand\n",
    "        self.camera = camera\n",
    "\n",
    "    def buy(self):\n",
    "        print(\"Buying a phone\")\n",
    "\n",
    "class SmartPhone(Phone):\n",
    "    pass\n",
    "\n",
    "s =  SmartPhone(20000,\"Apple\", 20)\n",
    "p= Phone(10000, \"MI\", 10)"
   ]
  },
  {
   "cell_type": "code",
   "execution_count": 53,
   "metadata": {},
   "outputs": [
    {
     "data": {
      "text/plain": [
       "20"
      ]
     },
     "execution_count": 53,
     "metadata": {},
     "output_type": "execute_result"
    }
   ],
   "source": [
    "s.brand\n",
    "s.camera"
   ]
  },
  {
   "cell_type": "code",
   "execution_count": null,
   "metadata": {},
   "outputs": [],
   "source": []
  },
  {
   "cell_type": "code",
   "execution_count": 57,
   "metadata": {},
   "outputs": [
    {
     "name": "stdout",
     "output_type": "stream",
     "text": [
      "Product customer review\n"
     ]
    }
   ],
   "source": [
    "p.review()"
   ]
  },
  {
   "cell_type": "code",
   "execution_count": 58,
   "metadata": {},
   "outputs": [
    {
     "name": "stdout",
     "output_type": "stream",
     "text": [
      "Product customer review\n"
     ]
    }
   ],
   "source": [
    "s.review()"
   ]
  },
  {
   "cell_type": "code",
   "execution_count": null,
   "metadata": {},
   "outputs": [],
   "source": []
  },
  {
   "cell_type": "markdown",
   "metadata": {},
   "source": []
  }
 ],
 "metadata": {
  "kernelspec": {
   "display_name": "Python 3",
   "language": "python",
   "name": "python3"
  },
  "language_info": {
   "codemirror_mode": {
    "name": "ipython",
    "version": 3
   },
   "file_extension": ".py",
   "mimetype": "text/x-python",
   "name": "python",
   "nbconvert_exporter": "python",
   "pygments_lexer": "ipython3",
   "version": "3.12.3"
  }
 },
 "nbformat": 4,
 "nbformat_minor": 2
}
