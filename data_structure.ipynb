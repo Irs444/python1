{
 "cells": [
  {
   "cell_type": "markdown",
   "metadata": {},
   "source": [
    "### **List**\n",
    "- creating\n",
    "- inexind and slicing\n",
    "- method\n",
    "- comprehension"
   ]
  },
  {
   "cell_type": "code",
   "execution_count": 2,
   "metadata": {},
   "outputs": [
    {
     "name": "stdout",
     "output_type": "stream",
     "text": [
      "[]\n",
      "[1, 2, 3, 4, 5]\n",
      "['1', '2', '3', '4']\n",
      "[[1, 2, 3], [4, 5, 6], [7, 8, 9]]\n",
      "[['hello', 1, 2], ['hii', 3, 4], ['byy', 5, 6, 7]]\n"
     ]
    }
   ],
   "source": [
    "a=[] # empty list\n",
    "b=[1,2,3,4,5] # number list\n",
    "c=[\"1\", \"2\",\"3\",\"4\"]  #string list\n",
    "d=[[1,2,3],[4,5,6],[7,8,9]] # list in list\n",
    "e=[[\"hello\",1,2],[\"hii\",3,4],[\"byy\",5,6,7]]  #nested list\n",
    "\n",
    "print(a)\n",
    "print(b)\n",
    "print(c)\n",
    "print(d)\n",
    "print(e)"
   ]
  },
  {
   "cell_type": "code",
   "execution_count": 4,
   "metadata": {},
   "outputs": [
    {
     "name": "stdout",
     "output_type": "stream",
     "text": [
      "1\n",
      "2\n",
      "3\n",
      "4\n",
      "5\n"
     ]
    }
   ],
   "source": [
    "for i in a:\n",
    "    print(i)\n",
    "\n",
    "for i in b:\n",
    "    print(i)"
   ]
  },
  {
   "cell_type": "code",
   "execution_count": 5,
   "metadata": {},
   "outputs": [
    {
     "name": "stdout",
     "output_type": "stream",
     "text": [
      "['Kung Fu Panda', 'Widh Dragon', 'The Croods', 'Moana', 'Invinciable']\n",
      "5\n",
      "first movie: Kung Fu Panda\n",
      "last movie: Invinciable\n",
      "second movie: Widh Dragon\n"
     ]
    }
   ],
   "source": [
    "movies=[\"Kung Fu Panda\",\"Widh Dragon\",\"The Croods\",\"Moana\",\"Invinciable\"]\n",
    "print(movies)\n",
    "print(len(movies))\n",
    "print(\"first movie:\", movies[0])\n",
    "print(\"last movie:\", movies[-1])\n",
    "print(\"second movie:\", movies[1])   "
   ]
  },
  {
   "cell_type": "markdown",
   "metadata": {},
   "source": [
    "### List Method(11)\n",
    "- adding/updating\n",
    "  -  append()\n",
    "  - extend()\n",
    "  - insert()\n",
    "- removing/deleting\n",
    "  - remove()\n",
    "  - pop()\n",
    "  - clear()\n",
    "- utility\n",
    "  - insert()\n",
    "  - reverse()\n",
    "  - index()\n",
    "  - count()\n",
    "  - copy()"
   ]
  },
  {
   "cell_type": "code",
   "execution_count": 7,
   "metadata": {},
   "outputs": [
    {
     "name": "stdout",
     "output_type": "stream",
     "text": [
      "Favorite book:['the great gatsby', 'war', 'Beloved', 'Jane eye', 'Anna']\n",
      "hated books: ['Lrd of the ring', 'Moby-Dick', 'Pride']\n"
     ]
    }
   ],
   "source": [
    "fav_book =[]\n",
    "hated_book= []\n",
    "\n",
    "for i in range(5):\n",
    "    book= input(\"enter the favorite book:\")\n",
    "    fav_book.append(book)\n",
    "for i in range(3):\n",
    "    book=input(\"entre hated book:\")\n",
    "    hated_book.append(book)\n",
    "\n",
    "print(f\"Favorite book:{fav_book}\")\n",
    "print(f\"hated books: {hated_book}\")"
   ]
  },
  {
   "cell_type": "code",
   "execution_count": 8,
   "metadata": {},
   "outputs": [
    {
     "name": "stdout",
     "output_type": "stream",
     "text": [
      "['Lrd of the ring', 'Moby-Dick', 'Pride', 'julius caeser']\n"
     ]
    }
   ],
   "source": [
    "hated_book.append(\"julius caeser\")\n",
    "print(hated_book)"
   ]
  },
  {
   "cell_type": "code",
   "execution_count": 9,
   "metadata": {},
   "outputs": [
    {
     "name": "stdout",
     "output_type": "stream",
     "text": [
      "['the great gatsby', 'war', 'Beloved', 'Jane eye', 'Anna', 'Lrd of the ring', 'Moby-Dick', 'Pride', 'julius caeser']\n"
     ]
    }
   ],
   "source": [
    "# merge two lists and create a new list\n",
    "books = fav_book+ hated_book\n",
    "print(books)"
   ]
  },
  {
   "cell_type": "code",
   "execution_count": 12,
   "metadata": {},
   "outputs": [
    {
     "name": "stdout",
     "output_type": "stream",
     "text": [
      "['the great gatsby', 'war', 'Beloved', 'Jane eye', 'Anna', 'Lrd of the ring', 'Moby-Dick', 'Pride', 'julius caeser', 'Legion', 'Dont Talk', 'Almachy', 'Legion', 'Dont Talk', 'Almachy', 'Legion', 'Dont Talk', 'Almachy']\n",
      "18\n"
     ]
    }
   ],
   "source": [
    "# adding a list to existing list\n",
    "books.extend([\"Legion\",\"Dont Talk\",\"Almachy\"])\n",
    "print(books)\n",
    "print(len(books))"
   ]
  },
  {
   "cell_type": "code",
   "execution_count": null,
   "metadata": {},
   "outputs": [],
   "source": []
  },
  {
   "cell_type": "code",
   "execution_count": 14,
   "metadata": {},
   "outputs": [],
   "source": []
  },
  {
   "cell_type": "code",
   "execution_count": null,
   "metadata": {},
   "outputs": [],
   "source": []
  }
 ],
 "metadata": {
  "kernelspec": {
   "display_name": "Python 3",
   "language": "python",
   "name": "python3"
  },
  "language_info": {
   "codemirror_mode": {
    "name": "ipython",
    "version": 3
   },
   "file_extension": ".py",
   "mimetype": "text/x-python",
   "name": "python",
   "nbconvert_exporter": "python",
   "pygments_lexer": "ipython3",
   "version": "3.12.3"
  }
 },
 "nbformat": 4,
 "nbformat_minor": 2
}
