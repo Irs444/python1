{
 "cells": [
  {
   "cell_type": "markdown",
   "metadata": {},
   "source": [
    "# **If Statement:**"
   ]
  },
  {
   "cell_type": "code",
   "execution_count": 13,
   "metadata": {},
   "outputs": [
    {
     "name": "stdout",
     "output_type": "stream",
     "text": [
      "a is less than b\n"
     ]
    }
   ],
   "source": [
    "a=input(\"enter first number:\")\n",
    "b=input(\"enter second number:\")\n",
    "if a<b:\n",
    "    print(\"a is less than b\")\n"
   ]
  },
  {
   "cell_type": "code",
   "execution_count": 19,
   "metadata": {},
   "outputs": [
    {
     "name": "stdout",
     "output_type": "stream",
     "text": [
      "fail\n"
     ]
    }
   ],
   "source": [
    "marks = int(input(\"enter the marks:\"))\n",
    "if marks>90:\n",
    "    print(\"grade A\")\n",
    "if marks >80 and marks<=90:\n",
    "    print(\"grade B\")\n",
    "if marks >70 and marks<=80:\n",
    "    print(\"grade C\")\n",
    "if marks >60 and marks<=70:\n",
    "    print(\"grade D\")  \n",
    "         "
   ]
  },
  {
   "cell_type": "code",
   "execution_count": 22,
   "metadata": {},
   "outputs": [
    {
     "name": "stdout",
     "output_type": "stream",
     "text": [
      "num1 is greater\n"
     ]
    }
   ],
   "source": [
    "num = int(input(\"enter number one:\"))\n",
    "num1 = int(input(\"enter number two:\"))\n",
    "num2 = int(input(\"enter number three:\"))\n",
    "if num>num1 and num>num2:\n",
    "    print(\"num is greater\")\n",
    "if num1>num and num1>num2:\n",
    "    print(\"num1 is greater\") \n",
    "if num2>num and num2>num1:\n",
    "    print(\"num2 is greater\")       "
   ]
  },
  {
   "cell_type": "markdown",
   "metadata": {},
   "source": [
    "# **elif statement:**"
   ]
  },
  {
   "cell_type": "code",
   "execution_count": 18,
   "metadata": {},
   "outputs": [
    {
     "name": "stdout",
     "output_type": "stream",
     "text": [
      "sunday\n"
     ]
    }
   ],
   "source": [
    "num_str = int(input(\"enter number between 1 to 7:\"))\n",
    "if num_str.isnumeric():\n",
    "    num = int(num_str)\n",
    "    if num == 1:\n",
    "        print(\"monday\")\n",
    "    elif num == 2:\n",
    "        print(\"tuesday\")\n",
    "    elif num == 3:\n",
    "        print(\"wednesday\")\n",
    "    elif num == 4:\n",
    "        print(\"thursday\")\n",
    "    elif num == 5:\n",
    "        print(\"friday\")\n",
    "    elif num == 6:\n",
    "        print(\"saturday\")\n",
    "    else:\n",
    "        print(\"sunday\")\n",
    "else:\n",
    "    print(\"enter valid number\")\n",
    " \n",
    "                   "
   ]
  },
  {
   "cell_type": "markdown",
   "metadata": {},
   "source": [
    "# **if else statement:**"
   ]
  },
  {
   "cell_type": "code",
   "execution_count": 24,
   "metadata": {},
   "outputs": [
    {
     "name": "stdout",
     "output_type": "stream",
     "text": [
      "odd number\n"
     ]
    }
   ],
   "source": [
    "x= int(input(\"enter the number:\"))\n",
    "if x%2 == 0:\n",
    "    print (\"even number\")\n",
    "else:\n",
    "    print(\"odd number\")"
   ]
  },
  {
   "cell_type": "code",
   "execution_count": 3,
   "metadata": {},
   "outputs": [
    {
     "name": "stdout",
     "output_type": "stream",
     "text": [
      "your attendence is: 50.0\n",
      "not allowed in exam\n"
     ]
    }
   ],
   "source": [
    "wd = int(input(\"enter the number of working days:\"))\n",
    "ab = int(input(\"enter the number of days absent\"))\n",
    "per = (wd-ab)/wd*100\n",
    "print(\"your attendence is:\", per)\n",
    "if per <75:\n",
    "    print(\"not allowed in exam\")\n",
    "else:\n",
    "    print(\"allowed in exam\")\n",
    "    "
   ]
  },
  {
   "cell_type": "markdown",
   "metadata": {},
   "source": [
    "wap to find out the total salay of the employee based on the following data\n",
    "salary : user input\n",
    "hra = 5%\n",
    "da = 3.3%\n",
    "ta = 2.61%\n",
    "\n",
    "`total = salary + hra + da+ ta`\n",
    "\n",
    "\n"
   ]
  },
  {
   "cell_type": "code",
   "execution_count": 3,
   "metadata": {},
   "outputs": [
    {
     "name": "stdout",
     "output_type": "stream",
     "text": [
      "enter valid number\n"
     ]
    }
   ],
   "source": [
    "# match case - use this to match multiple code \n",
    "day = input(\"enter the number between 1 to 7:\")    \n",
    "match day.lower():\n",
    "    case \"monday\"| \"tuesday\"| \"wednesday\"| \"thursday\"| \"friday\":\n",
    "        print(\"working day\")\n",
    "    case \"saturday\"|\"sunday\":\n",
    "        print(\"holiday\")\n",
    "    case _: #default case\n",
    "        print(\"enter valid number\")\n",
    "\n",
    "        "
   ]
  },
  {
   "cell_type": "markdown",
   "metadata": {},
   "source": []
  },
  {
   "cell_type": "markdown",
   "metadata": {},
   "source": [
    "#### single line condition"
   ]
  },
  {
   "cell_type": "code",
   "execution_count": 4,
   "metadata": {},
   "outputs": [
    {
     "name": "stdout",
     "output_type": "stream",
     "text": [
      "below 100\n"
     ]
    }
   ],
   "source": [
    "x= int(input(\"enter the number:\"))\n",
    "print(\"above 100\") if x>100 else print(\"below 100\")"
   ]
  },
  {
   "cell_type": "markdown",
   "metadata": {},
   "source": [
    "#### for loop\n",
    "- step based\n",
    "- traversal\n",
    "\n",
    "``for var in iterable:\n",
    "statement....``\n",
    "\n",
    "#### while loop\n",
    "- condition based"
   ]
  },
  {
   "cell_type": "code",
   "execution_count": 5,
   "metadata": {},
   "outputs": [
    {
     "name": "stdout",
     "output_type": "stream",
     "text": [
      "h\n",
      "e\n",
      "l\n",
      "l\n",
      "o\n"
     ]
    }
   ],
   "source": [
    "for v in \"hello\":\n",
    "    print(v)"
   ]
  },
  {
   "cell_type": "code",
   "execution_count": 6,
   "metadata": {},
   "outputs": [
    {
     "name": "stdout",
     "output_type": "stream",
     "text": [
      "red\n",
      "green\n",
      "blue\n"
     ]
    }
   ],
   "source": [
    "color =[ \"red\", \"green\", \"blue\"]\n",
    "for c in color:\n",
    "    print(c)"
   ]
  },
  {
   "cell_type": "code",
   "execution_count": 7,
   "metadata": {},
   "outputs": [
    {
     "name": "stdout",
     "output_type": "stream",
     "text": [
      "0 red\n",
      "1 green\n",
      "2 blue\n"
     ]
    }
   ],
   "source": [
    "# index and value\n",
    "for i, v in enumerate(color):\n",
    "    print(i,v)"
   ]
  },
  {
   "cell_type": "code",
   "execution_count": 13,
   "metadata": {},
   "outputs": [
    {
     "name": "stdout",
     "output_type": "stream",
     "text": [
      "1   =>  10\n",
      "453 =>  4530\n",
      "34  =>  340\n",
      "67  =>  670\n"
     ]
    }
   ],
   "source": [
    "numlist = [1, 453, 34 ,67]\n",
    "for num in numlist:\n",
    "    print(f\"{num:<3} =>  {num*10}\")"
   ]
  },
  {
   "cell_type": "code",
   "execution_count": 18,
   "metadata": {},
   "outputs": [
    {
     "name": "stdout",
     "output_type": "stream",
     "text": [
      "13 X 1 = 13 \n",
      "13 X 2 = 26 \n",
      "13 X 3 = 39 \n",
      "13 X 4 = 52 \n",
      "13 X 5 = 65 \n",
      "13 X 6 = 78 \n",
      "13 X 7 = 91 \n",
      "13 X 8 = 104\n",
      "13 X 9 = 117\n",
      "13 X 10 = 130\n"
     ]
    }
   ],
   "source": [
    "\n",
    "for i in range(1,11):\n",
    "    print(f\"13 X {i} = {13*i}\")"
   ]
  },
  {
   "cell_type": "code",
   "execution_count": 21,
   "metadata": {},
   "outputs": [
    {
     "name": "stdout",
     "output_type": "stream",
     "text": [
      "10\n",
      "9\n",
      "8\n",
      "7\n",
      "6\n",
      "5\n",
      "4\n",
      "3\n",
      "2\n",
      "1\n"
     ]
    }
   ],
   "source": [
    "for i in range(10,0,-1):\n",
    "    print(i)"
   ]
  },
  {
   "cell_type": "code",
   "execution_count": null,
   "metadata": {},
   "outputs": [],
   "source": []
  }
 ],
 "metadata": {
  "kernelspec": {
   "display_name": "Python 3",
   "language": "python",
   "name": "python3"
  },
  "language_info": {
   "codemirror_mode": {
    "name": "ipython",
    "version": 3
   },
   "file_extension": ".py",
   "mimetype": "text/x-python",
   "name": "python",
   "nbconvert_exporter": "python",
   "pygments_lexer": "ipython3",
   "version": "3.12.3"
  }
 },
 "nbformat": 4,
 "nbformat_minor": 2
}
