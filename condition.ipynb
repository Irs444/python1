{
 "cells": [
  {
   "cell_type": "markdown",
   "metadata": {},
   "source": [
    "# **If Statement:**"
   ]
  },
  {
   "cell_type": "code",
   "execution_count": 13,
   "metadata": {},
   "outputs": [
    {
     "name": "stdout",
     "output_type": "stream",
     "text": [
      "a is less than b\n"
     ]
    }
   ],
   "source": [
    "a=input(\"enter first number:\")\n",
    "b=input(\"enter second number:\")\n",
    "if a<b:\n",
    "    print(\"a is less than b\")\n"
   ]
  },
  {
   "cell_type": "code",
   "execution_count": 19,
   "metadata": {},
   "outputs": [
    {
     "name": "stdout",
     "output_type": "stream",
     "text": [
      "fail\n"
     ]
    }
   ],
   "source": [
    "marks = int(input(\"enter the marks:\"))\n",
    "if marks>90:\n",
    "    print(\"grade A\")\n",
    "if marks >80 and marks<=90:\n",
    "    print(\"grade B\")\n",
    "if marks >70 and marks<=80:\n",
    "    print(\"grade C\")\n",
    "if marks >60 and marks<=70:\n",
    "    print(\"grade D\")  \n",
    "         "
   ]
  },
  {
   "cell_type": "code",
   "execution_count": 22,
   "metadata": {},
   "outputs": [
    {
     "name": "stdout",
     "output_type": "stream",
     "text": [
      "num1 is greater\n"
     ]
    }
   ],
   "source": [
    "num = int(input(\"enter number one:\"))\n",
    "num1 = int(input(\"enter number two:\"))\n",
    "num2 = int(input(\"enter number three:\"))\n",
    "if num>num1 and num>num2:\n",
    "    print(\"num is greater\")\n",
    "if num1>num and num1>num2:\n",
    "    print(\"num1 is greater\") \n",
    "if num2>num and num2>num1:\n",
    "    print(\"num2 is greater\")       "
   ]
  },
  {
   "cell_type": "markdown",
   "metadata": {},
   "source": [
    "# **elif statement:**"
   ]
  },
  {
   "cell_type": "code",
   "execution_count": 18,
   "metadata": {},
   "outputs": [
    {
     "name": "stdout",
     "output_type": "stream",
     "text": [
      "sunday\n"
     ]
    }
   ],
   "source": [
    "num = int(input(\"enter number between 1 to 7:\"))\n",
    "if num == 1:\n",
    "    print(\"monday\")\n",
    "elif num == 2:\n",
    "    print(\"tuesday\")\n",
    "elif num == 3:\n",
    "    print(\"wednesday\")\n",
    "elif num == 4:\n",
    "    print(\"thursday\")\n",
    "elif num == 5:\n",
    "    print(\"friday\")\n",
    "elif num == 6:\n",
    "    print(\"saturday\") \n",
    "                   "
   ]
  },
  {
   "cell_type": "markdown",
   "metadata": {},
   "source": [
    "# **if else statement:**"
   ]
  },
  {
   "cell_type": "code",
   "execution_count": 24,
   "metadata": {},
   "outputs": [
    {
     "name": "stdout",
     "output_type": "stream",
     "text": [
      "odd number\n"
     ]
    }
   ],
   "source": [
    "x= int(input(\"enter the number:\"))\n",
    "if x%2 == 0:\n",
    "    print (\"even number\")\n",
    "else:\n",
    "    print(\"odd number\")"
   ]
  },
  {
   "cell_type": "code",
   "execution_count": 1,
   "metadata": {},
   "outputs": [
    {
     "name": "stdout",
     "output_type": "stream",
     "text": [
      "youe attendence is: 95.0\n",
      "allowed in exam\n"
     ]
    }
   ],
   "source": [
    "wd = int(input(\"enter the number of working days:\"))\n",
    "ab = int(input(\"enter the number of days absent\"))\n",
    "per = (wd-ab)/wd*100\n",
    "print(\"youe attendence is:\", per)\n",
    "if per <75:\n",
    "    print(\"not allowed in exam\")\n",
    "else:\n",
    "    print(\"allowed in exam\")\n",
    "    "
   ]
  },
  {
   "cell_type": "markdown",
   "metadata": {},
   "source": [
    "wap to find out the total salay of the employee based on the following data\n",
    "salary : user input\n",
    "hra = 5%\n",
    "da = 3.3%\n",
    "ta = 2.61%\n",
    "`total = salary + hra + da+ ta`"
   ]
  },
  {
   "cell_type": "markdown",
   "metadata": {},
   "source": []
  }
 ],
 "metadata": {
  "kernelspec": {
   "display_name": "Python 3",
   "language": "python",
   "name": "python3"
  },
  "language_info": {
   "codemirror_mode": {
    "name": "ipython",
    "version": 3
   },
   "file_extension": ".py",
   "mimetype": "text/x-python",
   "name": "python",
   "nbconvert_exporter": "python",
   "pygments_lexer": "ipython3",
   "version": "3.12.3"
  }
 },
 "nbformat": 4,
 "nbformat_minor": 2
}
