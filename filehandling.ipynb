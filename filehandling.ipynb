{
 "cells": [
  {
   "cell_type": "markdown",
   "metadata": {},
   "source": [
    "### **File Handling**\n",
    "- read  `r , r+ , rb , rb+`\n",
    "- write  `w, w+, wb, wb+`\n",
    "- append  `a, a+, ab, ab+`"
   ]
  },
  {
   "cell_type": "code",
   "execution_count": 9,
   "metadata": {},
   "outputs": [
    {
     "name": "stdout",
     "output_type": "stream",
     "text": [
      "hello every one jsbckjdpl bcijjsqpcknbciqjspqk kjsdhoqkk[pqk jhwqojdpoqwk khoqjlqkdpwoiq\n"
     ]
    }
   ],
   "source": [
    "f= open(r\"C:\\Users\\irs78\\OneDrive\\Documents\\OneDrive\\Documents\\Mern Notes.txt\", \"r\")\n",
    "data = f.read()\n",
    "print(data)"
   ]
  },
  {
   "cell_type": "code",
   "execution_count": 18,
   "metadata": {},
   "outputs": [
    {
     "name": "stdout",
     "output_type": "stream",
     "text": [
      "Irshad\n",
      "18\n"
     ]
    }
   ],
   "source": [
    "file_data = open(r\"C:\\Users\\irs78\\OneDrive\\Documents\\OneDrive\\Documents\\abd.txt\", \"r+\")\n",
    "data = file_data.read()\n",
    "d= file_data.write(\"msnckms;mkjdcma;wl\")\n",
    "print(data)\n",
    "print(d)"
   ]
  },
  {
   "cell_type": "code",
   "execution_count": 19,
   "metadata": {},
   "outputs": [
    {
     "name": "stdout",
     "output_type": "stream",
     "text": [
      "Irshad\n"
     ]
    }
   ],
   "source": [
    "print(data)"
   ]
  },
  {
   "cell_type": "code",
   "execution_count": 20,
   "metadata": {},
   "outputs": [
    {
     "name": "stdout",
     "output_type": "stream",
     "text": [
      "1. Functions or operators with the same name can be executed on different objects or classes.\n",
      "2.For example, the len() function can be used on strings, tuples, dictionaries, and other data structures.\n",
      "\n",
      "3.Polymorphism is often used in class methods, where multiple classes have the same method name.\n",
      "4.For instance, consider three classes: Car, Boat, and Plane. They all have a method called move().\n"
     ]
    }
   ],
   "source": [
    "txt = open(r\"C:\\Users\\irs78\\OneDrive\\Documents\\OneDrive\\Documents\\abd.txt\", \"r\")\n",
    "data = txt.read()\n",
    "print(data)"
   ]
  },
  {
   "cell_type": "code",
   "execution_count": 50,
   "metadata": {},
   "outputs": [
    {
     "name": "stdout",
     "output_type": "stream",
     "text": [
      "['1. Functions or operators with the same name can be executed on different objects or classes.\\n', '2.For example, the len() function can be used on strings, tuples, dictionaries, and other data structures.\\n', '\\n', '3.Polymorphism is often used in class methods, where multiple classes have the same method name.\\n', '4.For instance, consider three classes: Car, Boat, and Plane. They all have a method called move().', 'Irshad']\n"
     ]
    }
   ],
   "source": [
    "txt = open(r\"C:\\Users\\irs78\\OneDrive\\Documents\\OneDrive\\Documents\\abd.txt\", \"r\")\n",
    "\n",
    "\n",
    "ls = txt.readlines()\n",
    "ls.append(\"Irshad\")\n",
    "print(ls)\n"
   ]
  },
  {
   "cell_type": "markdown",
   "metadata": {},
   "source": [
    "#### Count `alphabet`, `digit`,`space`,`special Char` in a file."
   ]
  },
  {
   "cell_type": "code",
   "execution_count": 55,
   "metadata": {},
   "outputs": [
    {
     "name": "stdout",
     "output_type": "stream",
     "text": [
      "Alpahbet is: 309\n",
      "decimal value is: 4\n",
      "space is: 63\n",
      "special character is 40\n"
     ]
    }
   ],
   "source": [
    "txt = open(r\"C:\\Users\\irs78\\OneDrive\\Documents\\OneDrive\\Documents\\abd.txt\", \"r\")\n",
    "data = txt.read()\n",
    "a,d,s,sc =0,0,0,0\n",
    "for ch in data:\n",
    "    if ch.isalpha():\n",
    "        a+=1\n",
    "    elif ch.isdecimal():\n",
    "        d+=1\n",
    "    elif ch.isspace():\n",
    "        s+=1\n",
    "    else:\n",
    "        sc+=1\n",
    "\n",
    "print(f\"Alpahbet is: {a}\")\n",
    "print(f\"decimal value is: {d}\")\n",
    "print(f\"space is: {s}\")\n",
    "print(f\"special character is {sc}\")"
   ]
  },
  {
   "cell_type": "markdown",
   "metadata": {},
   "source": [
    "#### Count `alphabet`, `digit`,`space`,`special Char` in each line of  a file."
   ]
  },
  {
   "cell_type": "code",
   "execution_count": 59,
   "metadata": {},
   "outputs": [
    {
     "name": "stdout",
     "output_type": "stream",
     "text": [
      "1. Functions or operators with the same name can be executed on different objects or classes.\n",
      "\n",
      "Alpahbet is: 75\n",
      "decimal value is: 1\n",
      "space is: 16\n",
      "special character is 2\n",
      "2.For example, the len() function can be used on strings, tuples, dictionaries, and other data structures@#%$&%*^(^(.\n",
      "\n",
      "Alpahbet is: 82\n",
      "decimal value is: 1\n",
      "space is: 16\n",
      "special character is 19\n",
      "\n",
      "\n",
      "Alpahbet is: 0\n",
      "decimal value is: 0\n",
      "space is: 1\n",
      "special character is 0\n",
      "3.Polymorphism is often used in class methods, where multiple classes have the same method name*^&$^%#.\n",
      "\n",
      "Alpahbet is: 78\n",
      "decimal value is: 1\n",
      "space is: 15\n",
      "special character is 10\n",
      "4.For instance, consider three classes: Car, Boat, and Plane. They all have a method called move().\n",
      "Alpahbet is: 74\n",
      "decimal value is: 1\n",
      "space is: 15\n",
      "special character is 9\n"
     ]
    }
   ],
   "source": [
    "\n",
    "txt = open(r\"C:\\Users\\irs78\\OneDrive\\Documents\\OneDrive\\Documents\\abd.txt\", \"r\")\n",
    "ls = txt.readlines()\n",
    "\n",
    "for ln in ls:\n",
    "   a,d,s,sc =0,0,0,0\n",
    "   for ch in ln:\n",
    "      if ch.isalpha():\n",
    "        a+=1\n",
    "      elif ch.isdecimal():\n",
    "        d+=1\n",
    "      elif ch.isspace():\n",
    "        s+=1\n",
    "      else:\n",
    "        sc+=1\n",
    "   print(ln)\n",
    "   print(f\"Alpahbet is: {a}\")\n",
    "   print(f\"decimal value is: {d}\")\n",
    "   print(f\"space is: {s}\")\n",
    "   print(f\"special character is {sc}\")\n",
    "       "
   ]
  },
  {
   "cell_type": "markdown",
   "metadata": {},
   "source": [
    "### **Write in a File**"
   ]
  },
  {
   "cell_type": "code",
   "execution_count": 70,
   "metadata": {},
   "outputs": [
    {
     "name": "stdout",
     "output_type": "stream",
     "text": [
      "5\n"
     ]
    }
   ],
   "source": [
    "wr = open(r\"C:\\Users\\irs78\\OneDrive\\Documents\\OneDrive\\Documents\\file.txt\", \"w\")\n",
    "w =  wr.write(\"hello\")\n",
    "print(w)\n",
    "\n",
    "wr.close()"
   ]
  },
  {
   "cell_type": "code",
   "execution_count": 73,
   "metadata": {},
   "outputs": [],
   "source": [
    "wr = open(r\"C:\\Users\\irs78\\OneDrive\\Documents\\OneDrive\\Documents\\file.txt\", \"w\")\n",
    "ls =[\"1 list\", \"2 list\", \"3 list\"]\n",
    "\n",
    "wr.writelines(ls)\n",
    "wr.close()\n"
   ]
  },
  {
   "cell_type": "code",
   "execution_count": 75,
   "metadata": {},
   "outputs": [
    {
     "name": "stdout",
     "output_type": "stream",
     "text": [
      "1 list2 list3 list\n"
     ]
    }
   ],
   "source": []
  },
  {
   "cell_type": "code",
   "execution_count": 77,
   "metadata": {},
   "outputs": [],
   "source": [
    "ir =  open(r\"C:\\Users\\irs78\\OneDrive\\Documents\\OneDrive\\Documents\\irs.txt\", \"w\") \n",
    "\n",
    "ir.write(\"Irshad\")\n",
    "ir.close()"
   ]
  },
  {
   "cell_type": "code",
   "execution_count": 82,
   "metadata": {},
   "outputs": [],
   "source": [
    "ir =  open(r\"C:\\Users\\irs78\\OneDrive\\Documents\\OneDrive\\Documents\\irs.txt\", \"a\") \n",
    "ls = [\"Ansari \\n\",\"jdbkjh \\n\"]\n",
    "ir.writelines(ls)\n",
    "ir.write(\"hii \\n\")\n",
    "\n",
    "ir.close()"
   ]
  },
  {
   "cell_type": "markdown",
   "metadata": {},
   "source": [
    "### **Binary File Handling**"
   ]
  },
  {
   "cell_type": "code",
   "execution_count": 84,
   "metadata": {},
   "outputs": [],
   "source": [
    "import pickle\n",
    "\n",
    "f = open(r\"C:\\Users\\irs78\\OneDrive\\Documents\\OneDrive\\Desktop\\binary.txt\", \"wb\")\n",
    " \n",
    "i=10\n",
    "fl = 23.8\n",
    "s = \"hello\"\n",
    "l= [1,2,3,4,5]\n",
    "t = (6,7,8,9)\n",
    "\n",
    "pickle.dump(i,f)\n",
    "pickle.dump(fl,f)\n",
    "pickle.dump(s,f)\n",
    "pickle.dump(l,f)\n",
    "pickle.dump(t,f)\n",
    "\n",
    "f.close()"
   ]
  },
  {
   "cell_type": "code",
   "execution_count": 89,
   "metadata": {},
   "outputs": [
    {
     "name": "stdout",
     "output_type": "stream",
     "text": [
      "10\n",
      "23.8\n",
      "hello\n",
      "[1, 2, 3, 4, 5]\n",
      "(6, 7, 8, 9)\n"
     ]
    }
   ],
   "source": [
    "f = open(r\"C:\\Users\\irs78\\OneDrive\\Documents\\OneDrive\\Desktop\\binary.txt\", \"rb\")\n",
    "\n",
    "i=pickle.load(f)\n",
    "fl=pickle.load(f)\n",
    "s=pickle.load(f)\n",
    "t=pickle.load(f)\n",
    "l=pickle.load(f)\n",
    "\n",
    "print(i)\n",
    "print(fl)\n",
    "print(s)\n",
    "print(t)\n",
    "print(l)\n",
    "\n",
    "f.close()"
   ]
  },
  {
   "cell_type": "code",
   "execution_count": 95,
   "metadata": {},
   "outputs": [],
   "source": [
    "stu = open(r\"C:\\Users\\irs78\\OneDrive\\Documents\\OneDrive\\Desktop\\stu\", \"wb\")\n",
    "\n",
    "int_stu = int(input(\"no. of student\"))\n",
    "\n",
    "ls =[]\n",
    "\n",
    "for i in range(int_stu):\n",
    "    ls.append(input(\"enter student\"))\n",
    "\n",
    "pickle.dump(ls,stu)\n",
    "\n",
    "stu.close()"
   ]
  },
  {
   "cell_type": "code",
   "execution_count": 96,
   "metadata": {},
   "outputs": [
    {
     "name": "stdout",
     "output_type": "stream",
     "text": [
      "['a', 'b', 'c', 'd', 'e']\n"
     ]
    }
   ],
   "source": [
    "stu = open(r\"C:\\Users\\irs78\\OneDrive\\Documents\\OneDrive\\Desktop\\stu\", \"rb\")\n",
    "\n",
    "ls = pickle.load(stu)\n",
    "\n",
    "print(ls)\n",
    "\n",
    "stu.close()"
   ]
  },
  {
   "cell_type": "markdown",
   "metadata": {},
   "source": [
    "### **CSV File Handling**"
   ]
  },
  {
   "cell_type": "code",
   "execution_count": 105,
   "metadata": {},
   "outputs": [
    {
     "name": "stdout",
     "output_type": "stream",
     "text": [
      "[['1', '2', '3', '4'], ['5', '6', '7', '8'], ['a', 'b', 'c', 'd']]\n",
      "['1', '2', '3']\n"
     ]
    }
   ],
   "source": [
    "import csv\n",
    "\n",
    "f= open(r\"C:\\Users\\irs78\\OneDrive\\Documents\\OneDrive\\Desktop\\cv.csv\", \"r\")\n",
    " \n",
    "ro = csv.reader(f,delimiter=\",\")\n",
    "\n",
    "ls = list(ro)\n",
    "print(ls)\n",
    "print(ls[0][0:3])\n",
    "\n",
    "f.close()"
   ]
  },
  {
   "cell_type": "code",
   "execution_count": 106,
   "metadata": {},
   "outputs": [],
   "source": [
    "import csv\n",
    "\n",
    "f= open(r\"C:\\Users\\irs78\\OneDrive\\Documents\\OneDrive\\Desktop\\cv.csv\", \"w\") \n",
    "wo = csv.writer(f, delimiter=\",\")\n",
    "\n",
    "n = int(input(\"enter no. of student:\"))\n",
    "ls =[]\n",
    "\n",
    "for i in range(n):\n",
    "    rn = int(input(\"enter roll number:\"))\n",
    "    nm = input(\"enter the name:\")\n",
    "    a = int(input(\"enter the age:\"))\n",
    "    c = input(\"Enter the class:\")\n",
    "    p = float(input(\"enter the percentage:\"))\n",
    "\n",
    "    ls.append([rn,nm,a,c,p])\n",
    "\n",
    "wo.writerows(ls)\n",
    "f.close()"
   ]
  },
  {
   "cell_type": "code",
   "execution_count": 111,
   "metadata": {},
   "outputs": [
    {
     "name": "stdout",
     "output_type": "stream",
     "text": [
      "[['10', 'Irshad', '20', '7', '80.0'], [], ['7', 'hafsha', '20', '8', '90.0'], []]\n"
     ]
    }
   ],
   "source": [
    "f= open(r\"C:\\Users\\irs78\\OneDrive\\Documents\\OneDrive\\Desktop\\cv.csv\", \"r\")\n",
    "\n",
    "wo= csv.reader(f,delimiter=\",\")\n",
    "\n",
    "ls=list(wo)\n",
    "\n",
    "print(ls)\n",
    "f.close()\n",
    "\n"
   ]
  },
  {
   "cell_type": "code",
   "execution_count": null,
   "metadata": {},
   "outputs": [],
   "source": []
  }
 ],
 "metadata": {
  "kernelspec": {
   "display_name": "Python 3",
   "language": "python",
   "name": "python3"
  },
  "language_info": {
   "codemirror_mode": {
    "name": "ipython",
    "version": 3
   },
   "file_extension": ".py",
   "mimetype": "text/x-python",
   "name": "python",
   "nbconvert_exporter": "python",
   "pygments_lexer": "ipython3",
   "version": "3.12.3"
  }
 },
 "nbformat": 4,
 "nbformat_minor": 2
}
